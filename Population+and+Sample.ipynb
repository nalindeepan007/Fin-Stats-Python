{
 "cells": [
  {
   "cell_type": "markdown",
   "metadata": {},
   "source": [
    "## Population and Sample"
   ]
  },
  {
   "cell_type": "code",
   "execution_count": 1,
   "metadata": {
    "collapsed": true
   },
   "outputs": [],
   "source": [
    "import pandas as pd\n",
    "import numpy as np"
   ]
  },
  {
   "cell_type": "code",
   "execution_count": 2,
   "metadata": {
    "collapsed": true
   },
   "outputs": [],
   "source": [
    "# Create a Population DataFrame with 10 data \n",
    "\n",
    "data = pd.DataFrame()\n",
    "data['Population'] = [47, 48, 85, 20, 19, 13, 72, 16, 50, 60]"
   ]
  },
  {
   "cell_type": "code",
   "execution_count": 3,
   "metadata": {},
   "outputs": [
    {
     "name": "stdout",
     "output_type": "stream",
     "text": [
      "5    13\n",
      "1    48\n",
      "2    85\n",
      "0    47\n",
      "6    72\n",
      "Name: Population, dtype: int64\n"
     ]
    }
   ],
   "source": [
    "# Draw sample with replacement, size=5 from Population\n",
    "\n",
    "a_sample_with_replacement = data['Population'].sample(5, replace=True)\n",
    "print(a_sample_with_replacement)"
   ]
  },
  {
   "cell_type": "code",
   "execution_count": 4,
   "metadata": {},
   "outputs": [
    {
     "name": "stdout",
     "output_type": "stream",
     "text": [
      "1    48\n",
      "2    85\n",
      "8    50\n",
      "0    47\n",
      "3    20\n",
      "Name: Population, dtype: int64\n"
     ]
    }
   ],
   "source": [
    "# Draw sample without replacement, size=5 from Population\n",
    "\n",
    "a_sample_without_replacement = data['Population'].sample(5, replace=False)\n",
    "print(a_sample_without_replacement)"
   ]
  },
  {
   "cell_type": "markdown",
   "metadata": {},
   "source": [
    "# Parameters and Statistics"
   ]
  },
  {
   "cell_type": "code",
   "execution_count": 16,
   "metadata": {
    "scrolled": true
   },
   "outputs": [
    {
     "name": "stdout",
     "output_type": "stream",
     "text": [
      "Population mean is  Population    43.0\n",
      "dtype: float64\n",
      "Population variance is Population    571.8\n",
      "dtype: float64\n"
     ]
    }
   ],
   "source": [
    "# Calculate mean and variance\n",
    "population_mean = data.mean()\n",
    "population_var = data.var(ddof = 0)\n",
    "print('Population mean is ', population_mean)\n",
    "print('Population variance is', population_var)"
   ]
  },
  {
   "cell_type": "code",
   "execution_count": 15,
   "metadata": {},
   "outputs": [
    {
     "name": "stdout",
     "output_type": "stream",
     "text": [
      "Sample mean is  45.8\n",
      "Sample variance is 273.511111111\n"
     ]
    }
   ],
   "source": [
    "# Calculate sample mean and sample standard deviation, size =10\n",
    "# You will get different mean and varince every time when you excecute the below code\n",
    "\n",
    "a_sample = data['Population'].sample(10, replace=True)\n",
    "sample_mean = a_sample.mean()\n",
    "sample_var = a_sample.var()\n",
    "print('Sample mean is ', sample_mean)\n",
    "print('Sample variance is', sample_var)"
   ]
  },
  {
   "cell_type": "markdown",
   "metadata": {},
   "source": [
    "# Average of an unbiased estimator"
   ]
  },
  {
   "cell_type": "code",
   "execution_count": 12,
   "metadata": {
    "collapsed": true
   },
   "outputs": [],
   "source": [
    "sample_length = 500\n",
    "sample_variance_collection=[data['Population'].sample(10, replace=True).var(ddof=1) for i in range(sample_length)]"
   ]
  }
 ],
 "metadata": {
  "kernelspec": {
   "display_name": "Python 3",
   "language": "python",
   "name": "python3"
  },
  "language_info": {
   "codemirror_mode": {
    "name": "ipython",
    "version": 3
   },
   "file_extension": ".py",
   "mimetype": "text/x-python",
   "name": "python",
   "nbconvert_exporter": "python",
   "pygments_lexer": "ipython3",
   "version": "3.6.2"
  }
 },
 "nbformat": 4,
 "nbformat_minor": 2
}
